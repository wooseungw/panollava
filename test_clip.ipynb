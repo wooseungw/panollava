{
 "cells": [
  {
   "cell_type": "code",
   "execution_count": null,
   "id": "4cb9dcc8",
   "metadata": {},
   "outputs": [
    {
     "name": "stderr",
     "output_type": "stream",
     "text": [
      "/Users/seungwoo/anaconda3/envs/sur/lib/python3.12/site-packages/tqdm/auto.py:21: TqdmWarning: IProgress not found. Please update jupyter and ipywidgets. See https://ipywidgets.readthedocs.io/en/stable/user_install.html\n",
      "  from .autonotebook import tqdm as notebook_tqdm\n"
     ]
    }
   ],
   "source": [
    "from PIL import Image\n",
    "\n",
    "from transformers import CLIPProcessor, CLIPModel\n",
    "\n",
    "model = CLIPModel.from_pretrained(\"openai/clip-vit-base-patch16\")\n",
    "processor = CLIPProcessor.from_pretrained(\"openai/clip-vit-base-patch16\")\n",
    "url = \"data/quic360/downtest/images/2094501355_045ede6d89_k.jpg\"\n",
    "image = Image.open(url)\n",
    "inputs = processor(text=[\"a photo of a panorama\", \n",
    "                         \"There are tall round cocktail tables in the center in a line, there is bright red carpeting, and there are brown benches against the back wall.\",\n",
    "                         \"The all furniture are made by the wood and the metal stand , there have three tables by the wooden material\"], \n",
    "                   images=image, return_tensors=\"pt\", padding=True)\n",
    "outputs = model(**inputs)\n",
    "logits_per_image = outputs.logits_per_image # this is the image-text similarity score\n",
    "probs = logits_per_image.softmax(dim=1) # we can take the softmax to get the label probabilities\n"
   ]
  },
  {
   "cell_type": "code",
   "execution_count": 2,
   "id": "b6892eb7",
   "metadata": {},
   "outputs": [
    {
     "name": "stdout",
     "output_type": "stream",
     "text": [
      "Logits per image: tensor([[25.8388, 32.4433, 24.4310]], grad_fn=<TBackward0>)\n",
      "Probabilities: tensor([[1.3520e-03, 9.9832e-01, 3.3079e-04]], grad_fn=<SoftmaxBackward0>)\n"
     ]
    }
   ],
   "source": [
    "print(\"Logits per image:\", logits_per_image)\n",
    "print(\"Probabilities:\", probs)\n"
   ]
  },
  {
   "cell_type": "code",
   "execution_count": null,
   "id": "91cab276",
   "metadata": {},
   "outputs": [
    {
     "name": "stdout",
     "output_type": "stream",
     "text": [
      "Output logits: tensor([[[ 5.9520,  4.9115,  3.7664,  ...,  1.4857,  1.4857,  1.4857],\n",
      "         [10.4748,  0.7778,  0.2089,  ..., -1.7404, -1.7404, -1.7404],\n",
      "         [ 7.9126,  5.2561,  3.0047,  ..., -1.7214, -1.7214, -1.7214],\n",
      "         [ 7.5768,  6.2890,  2.9667,  ..., -2.4134, -2.4134, -2.4134],\n",
      "         [11.8694,  7.0810,  4.7935,  ..., -1.7592, -1.7592, -1.7592],\n",
      "         [ 7.1119,  5.2475,  2.5917,  ..., -0.0563, -0.0563, -0.0563]]],\n",
      "       grad_fn=<UnsafeViewBackward0>)\n"
     ]
    }
   ],
   "source": [
    "from transformers import Qwen3ForCausalLM, AutoModelForCausalLM, AutoTokenizer\n",
    "\n",
    "tok = AutoTokenizer.from_pretrained(\"Qwen/Qwen3-0.6B\")\n",
    "model = Qwen3ForCausalLM.from_pretrained(\"Qwen/Qwen3-0.6B\")\n",
    "import torch\n",
    "import torch.nn as nn\n",
    "import torch.nn.functional as F\n",
    "text = \"Hello, how are you?\"\n",
    "input_ids = tok(text, return_tensors=\"pt\").input_ids\n",
    "out = model(input_ids, return_dict=True)\n"
   ]
  },
  {
   "cell_type": "code",
   "execution_count": 17,
   "id": "41e0b7e2",
   "metadata": {},
   "outputs": [
    {
     "name": "stdout",
     "output_type": "stream",
     "text": [
      "torch.Size([1, 6, 1024])\n"
     ]
    }
   ],
   "source": [
    "embedded = model.model.embed_tokens(input_ids)\n",
    "print(embedded.shape)"
   ]
  },
  {
   "cell_type": "code",
   "execution_count": 12,
   "id": "431c71b9",
   "metadata": {},
   "outputs": [
    {
     "name": "stdout",
     "output_type": "stream",
     "text": [
      "Output logits: torch.Size([1, 6, 151936])\n"
     ]
    }
   ],
   "source": [
    "print(\"Output logits:\", out.logits.shape)"
   ]
  },
  {
   "cell_type": "code",
   "execution_count": 10,
   "id": "73e4b556",
   "metadata": {},
   "outputs": [
    {
     "name": "stdout",
     "output_type": "stream",
     "text": [
      "Embedding(151936, 1024)\n"
     ]
    }
   ],
   "source": [
    "print(model.get_input_embeddings())"
   ]
  },
  {
   "cell_type": "code",
   "execution_count": null,
   "id": "e200a4a2",
   "metadata": {},
   "outputs": [],
   "source": []
  },
  {
   "cell_type": "code",
   "execution_count": 5,
   "id": "486a5d7b",
   "metadata": {},
   "outputs": [
    {
     "name": "stdout",
     "output_type": "stream",
     "text": [
      "Output logits: CausalLMOutputWithPast(loss=None, logits=tensor([[[ 4.4758,  4.5917,  4.9683,  ...,  2.1538,  2.1538,  2.1538],\n",
      "         [ 7.5466,  5.1561,  6.5977,  ..., -0.2438, -0.2438, -0.2438],\n",
      "         [ 9.3812,  9.6463, 11.9673,  ...,  0.3227,  0.3227,  0.3227],\n",
      "         [10.3389,  7.1600, 14.7043,  ..., -0.4302, -0.4303, -0.4303]]],\n",
      "       grad_fn=<UnsafeViewBackward0>), past_key_values=<transformers.cache_utils.DynamicCache object at 0x313367110>, hidden_states=None, attentions=None)\n"
     ]
    }
   ],
   "source": [
    "\n",
    "print(\"Output logits:\", out)\n",
    "\n"
   ]
  }
 ],
 "metadata": {
  "kernelspec": {
   "display_name": "sur",
   "language": "python",
   "name": "python3"
  },
  "language_info": {
   "codemirror_mode": {
    "name": "ipython",
    "version": 3
   },
   "file_extension": ".py",
   "mimetype": "text/x-python",
   "name": "python",
   "nbconvert_exporter": "python",
   "pygments_lexer": "ipython3",
   "version": "3.12.9"
  }
 },
 "nbformat": 4,
 "nbformat_minor": 5
}
