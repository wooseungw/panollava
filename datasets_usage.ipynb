{
 "cells": [
  {
   "cell_type": "code",
   "execution_count": null,
   "id": "281b5190",
   "metadata": {},
   "outputs": [
    {
     "name": "stderr",
     "output_type": "stream",
     "text": [
      "/Users/seungwoo/anaconda3/envs/sur/lib/python3.12/site-packages/tqdm/auto.py:21: TqdmWarning: IProgress not found. Please update jupyter and ipywidgets. See https://ipywidgets.readthedocs.io/en/stable/user_install.html\n",
      "  from .autonotebook import tqdm as notebook_tqdm\n"
     ]
    }
   ],
   "source": [
    "from panovlm.processors.pano_llava_processor import PanoLLaVAProcessor\n",
    "from panovlm.dataset import ChatPanoDataset\n",
    "from panovlm.processors.image import PanoramaImageProcessor\n",
    "from panovlm.processors.text import TextTokenizer\n",
    "from torch.utils.data import DataLoader\n",
    "from transformers import default_data_collator\n",
    "print(\"--- 1. 가상 데이터 및 환경 설정 ---\")\n",
    "csv_path = \"data/quic360/downtest.csv\"\n",
    "if not Path(csv_path).exists():\n",
    "    raise FileNotFoundError(f\"CSV 파일이 존재하지 않습니다: {csv_path}\")\n",
    "print(\"가상 CSV 파일 경로:\", csv_path)\n",
    "print(\"\\n--- 2. 데이터 로딩 파이프라인 테스트 ---\")\n",
    "VISION_NAME = \"google/siglip-base-patch16-224\"\n",
    "LM_NAME = \"Qwen/Qwen3-0.6B\"\n",
    "BATCH_SIZE = 2\n",
    "DEVICE = \"cuda\" if torch.cuda.is_available() else \"cpu\"\n",
    "\n",
    "img_proc = PanoramaImageProcessor()\n",
    "txt_tok = TextTokenizer(LM_NAME)\n",
    "processor = PanoLLaVAProcessor(img_proc, txt_tok, max_length=128)\n",
    "\n",
    "dataset = ChatPanoDataset(csv_path, processor, txt_tok.tok, flatten=False)\n",
    "dataloader = DataLoader(dataset, batch_size=BATCH_SIZE, collate_fn=__import__('panovlm.dataset').dataset.ChatPanoDataModule.custom_collate_fn)\n",
    "batch = next(iter(dl))"
   ]
  },
  {
   "cell_type": "code",
   "execution_count": 3,
   "id": "2cdf7040",
   "metadata": {},
   "outputs": [
    {
     "name": "stdout",
     "output_type": "stream",
     "text": [
      "dict_keys(['pixel_values', 'input_ids', 'attention_mask', 'labels'])\n",
      "pixel_values shape: torch.Size([2, 8, 3, 224, 224])\n",
      "input_ids shape: torch.Size([2, 1, 131072])\n",
      "attention_mask shape: torch.Size([2, 1, 131072])\n",
      "labels shape: torch.Size([2, 1, 131072])\n"
     ]
    }
   ],
   "source": [
    "print(batch.keys())\n",
    "# \n",
    "print(\"pixel_values shape:\", batch[\"pixel_values\"].shape)  # (B·V, C, H, W)\n",
    "# print(\"pixel_values_5d shape:\", batch[\"pixel_values_5d\"].shape)  # (B, V, C, H, W) --- IGNORE ---\n",
    "print(\"input_ids shape:\", batch[\"input_ids\"].shape)  # (B, L)\n",
    "print(\"attention_mask shape:\", batch[\"attention_mask\"].shape)  # (B, L)\n",
    "print(\"labels shape:\", batch[\"labels\"].shape)  # (B, L)\n",
    "# dict_keys(['pixel_values', 'input_ids', 'attention_mask'])"
   ]
  }
 ],
 "metadata": {
  "kernelspec": {
   "display_name": "sur",
   "language": "python",
   "name": "python3"
  },
  "language_info": {
   "codemirror_mode": {
    "name": "ipython",
    "version": 3
   },
   "file_extension": ".py",
   "mimetype": "text/x-python",
   "name": "python",
   "nbconvert_exporter": "python",
   "pygments_lexer": "ipython3",
   "version": "3.12.9"
  }
 },
 "nbformat": 4,
 "nbformat_minor": 5
}
