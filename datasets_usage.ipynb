{
 "cells": [
  {
   "cell_type": "code",
   "execution_count": null,
   "id": "281b5190",
   "metadata": {},
   "outputs": [
    {
     "name": "stderr",
     "output_type": "stream",
     "text": [
      "/Users/seungwoo/anaconda3/envs/sur/lib/python3.12/site-packages/tqdm/auto.py:21: TqdmWarning: IProgress not found. Please update jupyter and ipywidgets. See https://ipywidgets.readthedocs.io/en/stable/user_install.html\n",
      "  from .autonotebook import tqdm as notebook_tqdm\n"
     ]
    }
   ],
   "source": [
    "from src.pano_llava_processor import PanoLLaVAProcessor\n",
    "from src.dataset import ChatPanoDataset\n",
    "from src.processor.image import PanoramaImageProcessor\n",
    "from src.processor.text import TextTokenizer\n",
    "from torch.utils.data import DataLoader\n",
    "from transformers import default_data_collator\n",
    "\n",
    "# 1) 공용 Processor 준비\n",
    "img_proc = PanoramaImageProcessor(image_size=(224, 224), crop_strategy=\"e2p\")\n",
    "txt_tok  = TextTokenizer(\"Qwen/Qwen3-0.6B\")\n",
    "pano_proc= PanoLLaVAProcessor(img_proc, txt_tok)          # vis_proc 생략\n",
    "\n",
    "# 2) Dataset 인스턴스\n",
    "ds = ChatPanoDataset(\n",
    "    csv_path   = \"data/quic360/downtest.csv\",          # url,query,annotation 형식\n",
    "    \n",
    "    processor  = pano_proc,\n",
    "    tokenizer  = txt_tok.tok,          # 프롬프트 빌드에 사용\n",
    "    system_msg = \"You are a helper.\",  # ⤷ system 메시지 변경 가능\n",
    "    flatten    = True                  # pixel_values → (B·V, C, H, W)\n",
    ")\n",
    "\n",
    "# 3) PyTorch DataLoader\n",
    "dl = DataLoader(ds, batch_size=2, shuffle=True,\n",
    "                collate_fn=default_data_collator, num_workers=4)\n",
    "\n",
    "batch = next(iter(dl))"
   ]
  },
  {
   "cell_type": "code",
   "execution_count": 3,
   "id": "2cdf7040",
   "metadata": {},
   "outputs": [
    {
     "name": "stdout",
     "output_type": "stream",
     "text": [
      "dict_keys(['pixel_values', 'input_ids', 'attention_mask', 'labels'])\n",
      "pixel_values shape: torch.Size([2, 8, 3, 224, 224])\n",
      "input_ids shape: torch.Size([2, 1, 131072])\n",
      "attention_mask shape: torch.Size([2, 1, 131072])\n",
      "labels shape: torch.Size([2, 1, 131072])\n"
     ]
    }
   ],
   "source": [
    "print(batch.keys())\n",
    "# \n",
    "print(\"pixel_values shape:\", batch[\"pixel_values\"].shape)  # (B·V, C, H, W)\n",
    "# print(\"pixel_values_5d shape:\", batch[\"pixel_values_5d\"].shape)  # (B, V, C, H, W) --- IGNORE ---\n",
    "print(\"input_ids shape:\", batch[\"input_ids\"].shape)  # (B, L)\n",
    "print(\"attention_mask shape:\", batch[\"attention_mask\"].shape)  # (B, L)\n",
    "print(\"labels shape:\", batch[\"labels\"].shape)  # (B, L)\n",
    "# dict_keys(['pixel_values', 'input_ids', 'attention_mask'])"
   ]
  }
 ],
 "metadata": {
  "kernelspec": {
   "display_name": "sur",
   "language": "python",
   "name": "python3"
  },
  "language_info": {
   "codemirror_mode": {
    "name": "ipython",
    "version": 3
   },
   "file_extension": ".py",
   "mimetype": "text/x-python",
   "name": "python",
   "nbconvert_exporter": "python",
   "pygments_lexer": "ipython3",
   "version": "3.12.9"
  }
 },
 "nbformat": 4,
 "nbformat_minor": 5
}
