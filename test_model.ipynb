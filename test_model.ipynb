{
 "cells": [
  {
   "cell_type": "code",
   "execution_count": 1,
   "id": "91653b1b",
   "metadata": {},
   "outputs": [
    {
     "name": "stderr",
     "output_type": "stream",
     "text": [
      "/Users/seungwoo/anaconda3/envs/sur/lib/python3.12/site-packages/tqdm/auto.py:21: TqdmWarning: IProgress not found. Please update jupyter and ipywidgets. See https://ipywidgets.readthedocs.io/en/stable/user_install.html\n",
      "  from .autonotebook import tqdm as notebook_tqdm\n"
     ]
    },
    {
     "name": "stdout",
     "output_type": "stream",
     "text": [
      "--- 1. 가상 데이터 및 환경 설정 ---\n",
      "\n",
      "--- 2. 데이터 로딩 파이프라인 테스트 ---\n",
      "데이터셋 샘플 수: 23, 배치 크기: 1\n",
      "\n",
      "--- 3. 모델 학습 과정 테스트 ---\n",
      "배치 데이터 로드 완료. 모델에 입력을 전달합니다...\n",
      "\n",
      "❌ 테스트 실패: 모델 학습 과정에서 오류가 발생했습니다.\n"
     ]
    },
    {
     "name": "stderr",
     "output_type": "stream",
     "text": [
      "Traceback (most recent call last):\n",
      "  File \"/var/folders/l1/vt4hj2ln3hs6c97_qllsy7lh0000gn/T/ipykernel_56580/3228274790.py\", line 44, in <module>\n",
      "    outputs = model(stage=\"finetune\", **batch)\n",
      "              ^^^^^^^^^^^^^^^^^^^^^^^^^^^^^^^^\n",
      "  File \"/Users/seungwoo/anaconda3/envs/sur/lib/python3.12/site-packages/torch/nn/modules/module.py\", line 1532, in _wrapped_call_impl\n",
      "    return self._call_impl(*args, **kwargs)\n",
      "           ^^^^^^^^^^^^^^^^^^^^^^^^^^^^^^^^\n",
      "  File \"/Users/seungwoo/anaconda3/envs/sur/lib/python3.12/site-packages/torch/nn/modules/module.py\", line 1541, in _call_impl\n",
      "    return forward_call(*args, **kwargs)\n",
      "           ^^^^^^^^^^^^^^^^^^^^^^^^^^^^^\n",
      "  File \"/Users/seungwoo/Workspace/panollava/panovlm/model.py\", line 181, in forward\n",
      "    return self._finetune(img_feat, input_ids, attention_mask, labels)\n",
      "           ^^^^^^^^^^^^^^^^^^^^^^^^^^^^^^^^^^^^^^^^^^^^^^^^^^^^^^^^^^^\n",
      "  File \"/Users/seungwoo/Workspace/panollava/panovlm/model.py\", line 291, in _finetune\n",
      "    emb = torch.cat([vis_tok, txt_emb], dim=1); vis_mask = torch.ones(vis_tok.size()[:-1], dtype=torch.long, device=emb.device)\n",
      "          ^^^^^^^^^^^^^^^^^^^^^^^^^^^^^^^^^^^^\n",
      "RuntimeError: Tensors must have same number of dimensions: got 3 and 4\n"
     ]
    }
   ],
   "source": [
    "from pathlib import Path\n",
    "import torch\n",
    "from torch.utils.data import DataLoader\n",
    "from PIL import Image\n",
    "from transformers import default_data_collator\n",
    "from panovlm.dataset import ChatPanoDataset\n",
    "from panovlm.processors.pano_llava_processor import PanoLLaVAProcessor\n",
    "from panovlm.processors.image import PanoramaImageProcessor\n",
    "from panovlm.processors.text import TextTokenizer\n",
    "from panovlm.model import PanoramaVLM\n",
    "\n",
    "\n",
    "print(\"--- 1. 가상 데이터 및 환경 설정 ---\")\n",
    "\n",
    "csv_path = \"data/quic360/downtest.csv\"\n",
    "\n",
    "\n",
    "print(\"\\n--- 2. 데이터 로딩 파이프라인 테스트 ---\")\n",
    "# 빠른 테스트를 위해 작은 모델 사용\n",
    "VISION_NAME = \"google/siglip-base-patch16-224\"\n",
    "LM_NAME = \"Qwen/Qwen3-0.6B\"\n",
    "BATCH_SIZE = 1\n",
    "DEVICE = \"cuda\" if torch.cuda.is_available() else \"cpu\"\n",
    "\n",
    "img_proc = PanoramaImageProcessor()\n",
    "txt_tok = TextTokenizer(LM_NAME)\n",
    "processor = PanoLLaVAProcessor(img_proc, txt_tok)\n",
    "\n",
    "dataset = ChatPanoDataset(csv_path, processor, txt_tok.tok,flatten=False)\n",
    "dataloader = DataLoader(dataset, batch_size=BATCH_SIZE, collate_fn=default_data_collator)\n",
    "print(f\"데이터셋 샘플 수: {len(dataset)}, 배치 크기: {BATCH_SIZE}\")\n",
    "\n",
    "print(\"\\n--- 3. 모델 학습 과정 테스트 ---\")\n",
    "try:\n",
    "    model = PanoramaVLM(vision_name=VISION_NAME, lm_name=LM_NAME).to(DEVICE)\n",
    "    model.train()\n",
    "    optimizer = torch.optim.AdamW(model.parameters(), lr=1e-5)\n",
    "\n",
    "    batch = next(iter(dataloader))\n",
    "    batch = {k: v.to(DEVICE) for k, v in batch.items()}\n",
    "    print(\"배치 데이터 로드 완료. 모델에 입력을 전달합니다...\")\n",
    "\n",
    "    # 순전파 (Forward Pass)\n",
    "    outputs = model(stage=\"finetune\", **batch)\n",
    "    loss = outputs[\"loss\"]\n",
    "    print(f\"✅ 순전파(Forward) 성공! Loss: {loss.item():.4f}\")\n",
    "\n",
    "    # 역전파 (Backward Pass)\n",
    "    optimizer.zero_grad()\n",
    "    loss.backward()\n",
    "    print(\"✅ 역전파(Backward) 성공! 그래디언트 계산 완료.\")\n",
    "\n",
    "    # 파라미터 업데이트\n",
    "    optimizer.step()\n",
    "    print(\"✅ 옵티마이저(Optimizer) 스텝 성공!\")\n",
    "    print(\"\\n🎉 모든 테스트 통과: 데이터 로딩 및 학습 파이프라인이 정상적으로 작동합니다.\")\n",
    "\n",
    "except Exception as e:\n",
    "    import traceback\n",
    "    print(f\"\\n❌ 테스트 실패: 모델 학습 과정에서 오류가 발생했습니다.\")\n",
    "    traceback.print_exc()"
   ]
  },
  {
   "cell_type": "code",
   "execution_count": null,
   "id": "217380e9",
   "metadata": {},
   "outputs": [],
   "source": [
    "from panovlm.model import MLPResampler\n",
    "\n",
    "print(\"\\n--- 4. MLPResampler 테스트 ---\")\n",
    "try:\n",
    "    vis_dim = 512\n",
    "    latent_dim = 256\n",
    "    resampler = MLPResampler(vis_dim, latent_dim)\n",
    "    sample_input = torch.randn(2, 8*10, vis_dim)  # (B, V, D_v)\n",
    "    output = resampler(sample_input)\n",
    "    print(f\"✅ MLPResampler 테스트 성공! 출력 크기: {output.shape}\")\n",
    "except Exception as e:\n",
    "    print(f\"❌ MLPResampler 테스트 실패: {e}\")\n",
    "    traceback.print_exc()"
   ]
  }
 ],
 "metadata": {
  "kernelspec": {
   "display_name": "sur",
   "language": "python",
   "name": "python3"
  },
  "language_info": {
   "codemirror_mode": {
    "name": "ipython",
    "version": 3
   },
   "file_extension": ".py",
   "mimetype": "text/x-python",
   "name": "python",
   "nbconvert_exporter": "python",
   "pygments_lexer": "ipython3",
   "version": "3.12.9"
  }
 },
 "nbformat": 4,
 "nbformat_minor": 5
}
